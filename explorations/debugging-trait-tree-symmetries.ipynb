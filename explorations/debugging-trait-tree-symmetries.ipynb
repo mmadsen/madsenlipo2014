{
 "metadata": {
  "name": ""
 },
 "nbformat": 3,
 "nbformat_minor": 0,
 "worksheets": [
  {
   "cells": [
    {
     "cell_type": "markdown",
     "metadata": {},
     "source": [
      "## Debugging Session ##\n",
      "\n",
      "Was figuring out what was wrong with the nauty format in axelrod-ct.  This session was how I debugged the problem.  "
     ]
    },
    {
     "cell_type": "code",
     "collapsed": false,
     "input": [
      "import networkx as nx"
     ],
     "language": "python",
     "metadata": {},
     "outputs": [
      {
       "output_type": "stream",
       "stream": "stdout",
       "text": [
        "Couldn't import dot_parser, loading of dot files will not be possible.\n"
       ]
      }
     ],
     "prompt_number": 1
    },
    {
     "cell_type": "code",
     "collapsed": false,
     "input": [
      "import madsenlab.axelrod.analysis as analysis\n",
      "import madsenlab.axelrod.utils as utils"
     ],
     "language": "python",
     "metadata": {},
     "outputs": [
      {
       "output_type": "stream",
       "stream": "stderr",
       "text": [
        "/Users/mark/anaconda/lib/python2.7/site-packages/pytz/__init__.py:31: UserWarning: Module argparse was already imported from /Users/mark/anaconda/python.app/Contents/lib/python2.7/argparse.pyc, but /Users/mark/anaconda/lib/python2.7/site-packages is being added to sys.path\n",
        "  from pkg_resources import resource_stream\n",
        "/Users/mark/anaconda/lib/python2.7/site-packages/pytz/__init__.py:31: UserWarning: Module logging was already imported from /Users/mark/anaconda/python.app/Contents/lib/python2.7/logging/__init__.pyc, but /Users/mark/anaconda/lib/python2.7/site-packages is being added to sys.path\n",
        "  from pkg_resources import resource_stream\n",
        "/Users/mark/anaconda/lib/python2.7/site-packages/pytz/__init__.py:31: UserWarning: Module multiprocessing was already imported from /Users/mark/anaconda/python.app/Contents/lib/python2.7/multiprocessing/__init__.pyc, but /Users/mark/anaconda/lib/python2.7/site-packages is being added to sys.path\n",
        "  from pkg_resources import resource_stream\n",
        "/Users/mark/anaconda/lib/python2.7/site-packages/pytz/__init__.py:31: UserWarning: Module uuid was already imported from /Users/mark/anaconda/python.app/Contents/lib/python2.7/uuid.pyc, but /Users/mark/anaconda/lib/python2.7/site-packages is being added to sys.path\n",
        "  from pkg_resources import resource_stream\n"
       ]
      }
     ],
     "prompt_number": 2
    },
    {
     "cell_type": "code",
     "collapsed": false,
     "input": [
      "conf = utils.TreeStructuredConfiguration(\"dummyconf.json\")"
     ],
     "language": "python",
     "metadata": {},
     "outputs": [],
     "prompt_number": 3
    },
    {
     "cell_type": "code",
     "collapsed": false,
     "input": [
      "conf.branching_factor = 4\n",
      "conf.depth_factor = 4"
     ],
     "language": "python",
     "metadata": {},
     "outputs": [],
     "prompt_number": 4
    },
    {
     "cell_type": "code",
     "collapsed": false,
     "input": [
      "g = nx.balanced_tree(conf.branching_factor,conf.depth_factor)"
     ],
     "language": "python",
     "metadata": {},
     "outputs": [],
     "prompt_number": 5
    },
    {
     "cell_type": "code",
     "collapsed": false,
     "input": [
      "sym = analysis.BalancedTreeAutomorphismStatistics(conf)"
     ],
     "language": "python",
     "metadata": {},
     "outputs": [],
     "prompt_number": 6
    },
    {
     "cell_type": "code",
     "collapsed": false,
     "input": [
      "dg = sym._get_dreadnaught_for_graph(g)\n",
      "print dg"
     ],
     "language": "python",
     "metadata": {},
     "outputs": [
      {
       "output_type": "stream",
       "stream": "stdout",
       "text": [
        "n=341 g\n",
        "1 2 3 4;\n",
        "8 5 6 7;\n",
        "9 10 11 12;\n",
        "16 13 14 15;\n",
        "17 18 19 20;\n",
        "24 21 22 23;\n",
        "26 27 28 25;\n",
        "32 29 30 31;\n",
        "34 35 36 33;\n",
        "40 37 38 39;\n",
        "41 43 44 42;\n",
        "48 45 46 47;\n",
        "49 51 52 50;\n",
        "56 53 54 55;\n",
        "57 58 60 59;\n",
        "64 61 62 63;\n",
        "67 65 66 68;\n",
        "72 69 70 71;\n",
        "76 73 74 75;\n",
        "80 77 78 79;\n",
        "84 81 82 83;\n",
        "88 87 86 85;\n",
        "89 90 91 92;\n",
        "96 95 94 93;\n",
        "97 98 99 100;\n",
        "104 102 101 103;\n",
        "105 106 107 108;\n",
        "112 110 109 111;\n",
        "113 114 115 116;\n",
        "120 119 117 118;\n",
        "121 122 123 124;\n",
        "128 127 125 126;\n",
        "129 130 131 132;\n",
        "136 133 134 135;\n",
        "137 138 139 140;\n",
        "144 141 142 143;\n",
        "145 146 147 148;\n",
        "152 149 150 151;\n",
        "154 155 156 153;\n",
        "160 157 158 159;\n",
        "162 163 164 161;\n",
        "168 165 166 167;\n",
        "169 171 172 170;\n",
        "176 173 174 175;\n",
        "177 179 180 178;\n",
        "184 181 182 183;\n",
        "185 186 188 187;\n",
        "192 189 190 191;\n",
        "193 194 196 195;\n",
        "200 197 198 199;\n",
        "201 202 203 204;\n",
        "208 205 206 207;\n",
        "209 210 211 212;\n",
        "216 215 214 213;\n",
        "217 218 219 220;\n",
        "224 223 222 221;\n",
        "225 226 227 228;\n",
        "232 230 229 231;\n",
        "233 234 235 236;\n",
        "240 238 237 239;\n",
        "241 242 243 244;\n",
        "248 247 245 246;\n",
        "249 250 251 252;\n",
        "256 255 253 254;\n",
        "257 258 259 260;\n",
        "264 261 262 263;\n",
        "265 266 267 268;\n",
        "272 269 270 271;\n",
        "273 274 275 276;\n",
        "280 277 278 279;\n",
        "282 283 284 281;\n",
        "288 285 286 287;\n",
        "290 291 292 289;\n",
        "296 293 294 295;\n",
        "297 299 300 298;\n",
        "304 301 302 303;\n",
        "305 307 308 306;\n",
        "312 309 310 311;\n",
        "313 314 316 315;\n",
        "320 317 318 319;\n",
        "323 321 322 324;\n",
        "328 325 326 327;\n",
        "332 329 330 331;\n",
        "336 333 334 335;\n",
        "340 337 338 339;\n",
        ";\n",
        ";\n",
        ";\n",
        ";\n",
        ";\n",
        ";\n",
        ";\n",
        ";\n",
        ";\n",
        ";\n",
        ";\n",
        ";\n",
        ";\n",
        ";\n",
        ";\n",
        ";\n",
        ";\n",
        ";\n",
        ";\n",
        ";\n",
        ";\n",
        ";\n",
        ";\n",
        ";\n",
        ";\n",
        ";\n",
        ";\n",
        ";\n",
        ";\n",
        ";\n",
        ";\n",
        ";\n",
        ";\n",
        ";\n",
        ";\n",
        ";\n",
        ";\n",
        ";\n",
        ";\n",
        ";\n",
        ";\n",
        ";\n",
        ";\n",
        ";\n",
        ";\n",
        ";\n",
        ";\n",
        ";\n",
        ";\n",
        ";\n",
        ";\n",
        ";\n",
        ";\n",
        ";\n",
        ";\n",
        ";\n",
        ";\n",
        ";\n",
        ";\n",
        ";\n",
        ";\n",
        ";\n",
        ";\n",
        ";\n",
        ";\n",
        ";\n",
        ";\n",
        ";\n",
        ";\n",
        ";\n",
        ";\n",
        ";\n",
        ";\n",
        ";\n",
        ";\n",
        ";\n",
        ";\n",
        ";\n",
        ";\n",
        ";\n",
        ";\n",
        ";\n",
        ";\n",
        ";\n",
        ";\n",
        ";\n",
        ";\n",
        ";\n",
        ";\n",
        ";\n",
        ";\n",
        ";\n",
        ";\n",
        ";\n",
        ";\n",
        ";\n",
        ";\n",
        ";\n",
        ";\n",
        ";\n",
        ";\n",
        ";\n",
        ";\n",
        ";\n",
        ";\n",
        ";\n",
        ";\n",
        ";\n",
        ";\n",
        ";\n",
        ";\n",
        ";\n",
        ";\n",
        ";\n",
        ";\n",
        ";\n",
        ";\n",
        ";\n",
        ";\n",
        ";\n",
        ";\n",
        ";\n",
        ";\n",
        ";\n",
        ";\n",
        ";\n",
        ";\n",
        ";\n",
        ";\n",
        ";\n",
        ";\n",
        ";\n",
        ";\n",
        ";\n",
        ";\n",
        ";\n",
        ";\n",
        ";\n",
        ";\n",
        ";\n",
        ";\n",
        ";\n",
        ";\n",
        ";\n",
        ";\n",
        ";\n",
        ";\n",
        ";\n",
        ";\n",
        ";\n",
        ";\n",
        ";\n",
        ";\n",
        ";\n",
        ";\n",
        ";\n",
        ";\n",
        ";\n",
        ";\n",
        ";\n",
        ";\n",
        ";\n",
        ";\n",
        ";\n",
        ";\n",
        ";\n",
        ";\n",
        ";\n",
        ";\n",
        ";\n",
        ";\n",
        ";\n",
        ";\n",
        ";\n",
        ";\n",
        ";\n",
        ";\n",
        ";\n",
        ";\n",
        ";\n",
        ";\n",
        ";\n",
        ";\n",
        ";\n",
        ";\n",
        ";\n",
        ";\n",
        ";\n",
        ";\n",
        ";\n",
        ";\n",
        ";\n",
        ";\n",
        ";\n",
        ";\n",
        ";\n",
        ";\n",
        ";\n",
        ";\n",
        ";\n",
        ";\n",
        ";\n",
        ";\n",
        ";\n",
        ";\n",
        ";\n",
        ";\n",
        ";\n",
        ";\n",
        ";\n",
        ";\n",
        ";\n",
        ";\n",
        ";\n",
        ";\n",
        ";\n",
        ";\n",
        ";\n",
        ";\n",
        ";\n",
        ";\n",
        ";\n",
        ";\n",
        ";\n",
        ";\n",
        ";\n",
        ";\n",
        ";\n",
        ";\n",
        ";\n",
        ";\n",
        ";\n",
        ";\n",
        ";\n",
        ";\n",
        ";\n",
        ";\n",
        ";\n",
        ";\n",
        ";\n",
        ";\n",
        ";\n",
        ";\n",
        ";\n",
        ";\n",
        ";\n",
        ";\n",
        ";\n",
        ";\n",
        ";\n",
        ";\n",
        ";\n",
        ";\n",
        ";\n",
        ";\n",
        ";\n",
        "x o\n",
        "\n"
       ]
      }
     ],
     "prompt_number": 7
    },
    {
     "cell_type": "code",
     "collapsed": false,
     "input": [
      "sym._get_raw_nauty_output(dg)"
     ],
     "language": "python",
     "metadata": {},
     "outputs": [
      {
       "metadata": {},
       "output_type": "pyout",
       "prompt_number": 8,
       "text": [
        "'5 orbits; grpsize=2.079483819622e117; 255 gens; 30388 nodes; maxlev=205\\ncpu time = 0.04 seconds\\n 0; 1:4 (4); 5:20 (16); 21:84 (64); 85:340 (256);\\n'"
       ]
      }
     ],
     "prompt_number": 8
    },
    {
     "cell_type": "code",
     "collapsed": false,
     "input": [
      "sym.calculate_graph_symmetries(g)"
     ],
     "language": "python",
     "metadata": {},
     "outputs": [
      {
       "ename": "TypeError",
       "evalue": "float() argument must be a string or a number",
       "output_type": "pyerr",
       "traceback": [
        "\u001b[0;31m---------------------------------------------------------------------------\u001b[0m\n\u001b[0;31mTypeError\u001b[0m                                 Traceback (most recent call last)",
        "\u001b[0;32m<ipython-input-9-2b70c0c8fbd8>\u001b[0m in \u001b[0;36m<module>\u001b[0;34m()\u001b[0m\n\u001b[0;32m----> 1\u001b[0;31m \u001b[0msym\u001b[0m\u001b[0;34m.\u001b[0m\u001b[0mcalculate_graph_symmetries\u001b[0m\u001b[0;34m(\u001b[0m\u001b[0mg\u001b[0m\u001b[0;34m)\u001b[0m\u001b[0;34m\u001b[0m\u001b[0m\n\u001b[0m",
        "\u001b[0;32m/Users/mark/anaconda/lib/python2.7/site-packages/madsenlab/axelrod/analysis/trait_tree_statistics.pyc\u001b[0m in \u001b[0;36mcalculate_graph_symmetries\u001b[0;34m(self, graph)\u001b[0m\n\u001b[1;32m    135\u001b[0m \u001b[0;34m\u001b[0m\u001b[0m\n\u001b[1;32m    136\u001b[0m         \u001b[0;31m# TODO: Figure out how to handle density and radius for multi-component graphs\u001b[0m\u001b[0;34m\u001b[0m\u001b[0;34m\u001b[0m\u001b[0m\n\u001b[0;32m--> 137\u001b[0;31m         \u001b[0mresults\u001b[0m\u001b[0;34m[\u001b[0m\u001b[0;34m'remainingdensity'\u001b[0m\u001b[0;34m]\u001b[0m \u001b[0;34m=\u001b[0m \u001b[0mfloat\u001b[0m\u001b[0;34m(\u001b[0m\u001b[0mg\u001b[0m\u001b[0;34m.\u001b[0m\u001b[0mnumber_of_nodes\u001b[0m\u001b[0;34m(\u001b[0m\u001b[0;34m)\u001b[0m\u001b[0;34m)\u001b[0m \u001b[0;34m/\u001b[0m \u001b[0;34m(\u001b[0m\u001b[0mfloat\u001b[0m\u001b[0;34m(\u001b[0m\u001b[0mself\u001b[0m\u001b[0;34m.\u001b[0m\u001b[0mn_per_tree\u001b[0m\u001b[0;34m)\u001b[0m \u001b[0;34m*\u001b[0m \u001b[0mfloat\u001b[0m\u001b[0;34m(\u001b[0m\u001b[0mself\u001b[0m\u001b[0;34m.\u001b[0m\u001b[0mnum_trees\u001b[0m\u001b[0;34m)\u001b[0m\u001b[0;34m)\u001b[0m\u001b[0;34m\u001b[0m\u001b[0m\n\u001b[0m\u001b[1;32m    138\u001b[0m \u001b[0;34m\u001b[0m\u001b[0m\n\u001b[1;32m    139\u001b[0m \u001b[0;34m\u001b[0m\u001b[0m\n",
        "\u001b[0;31mTypeError\u001b[0m: float() argument must be a string or a number"
       ]
      }
     ],
     "prompt_number": 9
    },
    {
     "cell_type": "code",
     "collapsed": false,
     "input": [
      "ag = nx.read_adjlist(\"graphs/asymmetric-tree.adjlist\", nodetype=int)"
     ],
     "language": "python",
     "metadata": {},
     "outputs": []
    },
    {
     "cell_type": "code",
     "collapsed": false,
     "input": [
      "ag\n"
     ],
     "language": "python",
     "metadata": {},
     "outputs": []
    },
    {
     "cell_type": "code",
     "collapsed": false,
     "input": [
      "import matplotlib.pyplot as plt\n"
     ],
     "language": "python",
     "metadata": {},
     "outputs": []
    },
    {
     "cell_type": "code",
     "collapsed": false,
     "input": [
      "sym.calculate_graph_symmetries(ag)"
     ],
     "language": "python",
     "metadata": {},
     "outputs": []
    },
    {
     "cell_type": "code",
     "collapsed": false,
     "input": [
      "nx.write_dot(ag, \"graphs/asymmetric-tree.gv\")"
     ],
     "language": "python",
     "metadata": {},
     "outputs": []
    },
    {
     "cell_type": "code",
     "collapsed": false,
     "input": [
      "sym.calculate_graph_symmetries(ag)"
     ],
     "language": "python",
     "metadata": {},
     "outputs": []
    },
    {
     "cell_type": "code",
     "collapsed": false,
     "input": [
      "ag_dread = sym._get_dreadnaught_for_graph(ag)"
     ],
     "language": "python",
     "metadata": {},
     "outputs": []
    },
    {
     "cell_type": "code",
     "collapsed": false,
     "input": [
      "adj = nx.generate_adjlist(ag)"
     ],
     "language": "python",
     "metadata": {},
     "outputs": []
    },
    {
     "cell_type": "code",
     "collapsed": false,
     "input": [
      "nx.write_dot(g, \"graphs/original-trait-tree-4-4.dot\")"
     ],
     "language": "python",
     "metadata": {},
     "outputs": []
    },
    {
     "cell_type": "code",
     "collapsed": false,
     "input": [
      "g3 = nx.balanced_tree(3,3)\n"
     ],
     "language": "python",
     "metadata": {},
     "outputs": []
    },
    {
     "cell_type": "code",
     "collapsed": false,
     "input": [
      "nx.write_dot(g3, \"graphs/original-trait-tree-3-3.dot\")"
     ],
     "language": "python",
     "metadata": {},
     "outputs": []
    },
    {
     "cell_type": "code",
     "collapsed": false,
     "input": [
      "g3_dread = sym._get_dreadnaught_for_graph(g3)"
     ],
     "language": "python",
     "metadata": {},
     "outputs": []
    },
    {
     "cell_type": "code",
     "collapsed": false,
     "input": [
      "f = open(\"graphs/original-trait-tree-3-3.dread\", \"w\")\n",
      "f.write(g3_dread)\n",
      "f.close()"
     ],
     "language": "python",
     "metadata": {},
     "outputs": []
    },
    {
     "cell_type": "code",
     "collapsed": false,
     "input": [
      "g3.number_of_nodes()"
     ],
     "language": "python",
     "metadata": {},
     "outputs": []
    },
    {
     "cell_type": "code",
     "collapsed": false,
     "input": [
      "for line in adj:\n",
      "    print line"
     ],
     "language": "python",
     "metadata": {},
     "outputs": []
    },
    {
     "cell_type": "code",
     "collapsed": false,
     "input": [
      " ag.neighbors(0)"
     ],
     "language": "python",
     "metadata": {},
     "outputs": []
    },
    {
     "cell_type": "code",
     "collapsed": false,
     "input": [
      "ag.nodes()"
     ],
     "language": "python",
     "metadata": {},
     "outputs": []
    },
    {
     "cell_type": "code",
     "collapsed": false,
     "input": [
      "ag.neighbors['0']"
     ],
     "language": "python",
     "metadata": {},
     "outputs": []
    },
    {
     "cell_type": "code",
     "collapsed": false,
     "input": [
      "ag.neighbors(0)"
     ],
     "language": "python",
     "metadata": {},
     "outputs": []
    },
    {
     "cell_type": "code",
     "collapsed": false,
     "input": [
      "ag.nodes()"
     ],
     "language": "python",
     "metadata": {},
     "outputs": []
    },
    {
     "cell_type": "code",
     "collapsed": false,
     "input": [
      "print sym._format_graph_as_nauty(ag)"
     ],
     "language": "python",
     "metadata": {},
     "outputs": []
    },
    {
     "cell_type": "code",
     "collapsed": false,
     "input": [
      "gdd = nx.read_dot(\"graphs/asymmetric-tree.dot\")"
     ],
     "language": "python",
     "metadata": {},
     "outputs": []
    },
    {
     "cell_type": "code",
     "collapsed": false,
     "input": [
      "gdd.nodes()"
     ],
     "language": "python",
     "metadata": {},
     "outputs": []
    },
    {
     "cell_type": "code",
     "collapsed": false,
     "input": [
      "gddi = nx.convert_node_labels_to_integers(gdd)"
     ],
     "language": "python",
     "metadata": {},
     "outputs": []
    },
    {
     "cell_type": "code",
     "collapsed": false,
     "input": [
      "gddi.nodes()"
     ],
     "language": "python",
     "metadata": {},
     "outputs": []
    },
    {
     "cell_type": "code",
     "collapsed": false,
     "input": [
      "gddi.neighbors(0)"
     ],
     "language": "python",
     "metadata": {},
     "outputs": []
    },
    {
     "cell_type": "code",
     "collapsed": false,
     "input": [
      "gddi.edges()"
     ],
     "language": "python",
     "metadata": {},
     "outputs": []
    },
    {
     "cell_type": "code",
     "collapsed": false,
     "input": [
      "ag.neighbors(3)"
     ],
     "language": "python",
     "metadata": {},
     "outputs": []
    },
    {
     "cell_type": "code",
     "collapsed": false,
     "input": [
      "g3 = nx.balanced_tree(3,3)"
     ],
     "language": "python",
     "metadata": {},
     "outputs": []
    },
    {
     "cell_type": "code",
     "collapsed": false,
     "input": [
      "print sym._format_graph_as_nauty(g3)"
     ],
     "language": "python",
     "metadata": {},
     "outputs": []
    },
    {
     "cell_type": "code",
     "collapsed": false,
     "input": [
      "print sym.calculate_graph_symmetries(g3)"
     ],
     "language": "python",
     "metadata": {},
     "outputs": []
    },
    {
     "cell_type": "code",
     "collapsed": false,
     "input": [
      "g4 = nx.balanced_tree(4,4)"
     ],
     "language": "python",
     "metadata": {},
     "outputs": []
    },
    {
     "cell_type": "code",
     "collapsed": false,
     "input": [
      "print sym.calculate_graph_symmetries(g4)"
     ],
     "language": "python",
     "metadata": {},
     "outputs": []
    },
    {
     "cell_type": "code",
     "collapsed": false,
     "input": [
      "conf.branching_factor = 3\n",
      "conf.depth_factor = 3\n",
      "sym2 =  analysis.BalancedTreeAutomorphismStatistics(conf)"
     ],
     "language": "python",
     "metadata": {},
     "outputs": []
    },
    {
     "cell_type": "code",
     "collapsed": false,
     "input": [
      "print sym2.calculate_graph_symmetries(g3)"
     ],
     "language": "python",
     "metadata": {},
     "outputs": []
    },
    {
     "cell_type": "code",
     "collapsed": false,
     "input": [
      "g46 = nx.balanced_tree(4,6)\n"
     ],
     "language": "python",
     "metadata": {},
     "outputs": []
    },
    {
     "cell_type": "code",
     "collapsed": false,
     "input": [
      "?g46\n"
     ],
     "language": "python",
     "metadata": {},
     "outputs": []
    },
    {
     "cell_type": "code",
     "collapsed": false,
     "input": [
      "fname = \"g46.dread\"\n",
      "f = open(fname, 'w')\n"
     ],
     "language": "python",
     "metadata": {},
     "outputs": []
    },
    {
     "cell_type": "code",
     "collapsed": false,
     "input": [
      "f.write(sym._format_graph_as_nauty(g46))"
     ],
     "language": "python",
     "metadata": {},
     "outputs": []
    },
    {
     "cell_type": "code",
     "collapsed": false,
     "input": [
      "sym._format_graph_as_nauty(g46)"
     ],
     "language": "python",
     "metadata": {},
     "outputs": []
    },
    {
     "cell_type": "code",
     "collapsed": false,
     "input": [
      "g55 = nx.balanced_tree(5,5)"
     ],
     "language": "python",
     "metadata": {},
     "outputs": [],
     "prompt_number": 10
    },
    {
     "cell_type": "code",
     "collapsed": false,
     "input": [
      "gd55 = sym.calculate_graph_symmetries(g55)"
     ],
     "language": "python",
     "metadata": {},
     "outputs": [],
     "prompt_number": "*"
    },
    {
     "cell_type": "code",
     "collapsed": false,
     "input": [],
     "language": "python",
     "metadata": {},
     "outputs": []
    }
   ],
   "metadata": {}
  }
 ]
}