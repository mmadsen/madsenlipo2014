{
 "metadata": {
  "name": ""
 },
 "nbformat": 3,
 "nbformat_minor": 0,
 "worksheets": [
  {
   "cells": [
    {
     "cell_type": "markdown",
     "metadata": {},
     "source": [
      "### Symmetry Metrics for Balanced Tree Forests ###\n",
      "\n",
      "The goal is to understand how `nauty` output and symmetry metrics behave when we consider a forest with multiple disconnected trees.  This situation would occur if we calculated symmetries across the entire set of trait trees when capturing statistics.  \n",
      "\n",
      "Some statistics, such as orbits, might crosscut trait trees if two trait trees shared adjacency relationships.  In other situations, I'd expect them to be a disjoint union of results, and thus the statistics might simply be additive (and thus needing to be normalized by the number of configured trait trees).  In other cases, such as $|\\textit{Aut}(G)|$, the relationship might be multiplicative and combinatorial.  \n",
      "\n",
      "I proceed by constructing a union graph of 2 balanced trait trees, then 3 and 4, and examining how the `nauty` output statistics scale.  Then I look at a combination of different balanced trees.  "
     ]
    },
    {
     "cell_type": "code",
     "collapsed": false,
     "input": [
      "import networkx as nx\n",
      "import madsenlab.axelrod.analysis as stats\n",
      "import madsenlab.axelrod.utils as utils"
     ],
     "language": "python",
     "metadata": {},
     "outputs": [
      {
       "output_type": "stream",
       "stream": "stderr",
       "text": [
        "/Users/mark/anaconda/lib/python2.7/site-packages/pytz/__init__.py:31: UserWarning: Module argparse was already imported from /Users/mark/anaconda/python.app/Contents/lib/python2.7/argparse.pyc, but /Users/mark/anaconda/lib/python2.7/site-packages is being added to sys.path\n",
        "  from pkg_resources import resource_stream\n",
        "/Users/mark/anaconda/lib/python2.7/site-packages/pytz/__init__.py:31: UserWarning: Module logging was already imported from /Users/mark/anaconda/python.app/Contents/lib/python2.7/logging/__init__.pyc, but /Users/mark/anaconda/lib/python2.7/site-packages is being added to sys.path\n",
        "  from pkg_resources import resource_stream\n",
        "/Users/mark/anaconda/lib/python2.7/site-packages/pytz/__init__.py:31: UserWarning: Module multiprocessing was already imported from /Users/mark/anaconda/python.app/Contents/lib/python2.7/multiprocessing/__init__.pyc, but /Users/mark/anaconda/lib/python2.7/site-packages is being added to sys.path\n",
        "  from pkg_resources import resource_stream\n",
        "/Users/mark/anaconda/lib/python2.7/site-packages/pytz/__init__.py:31: UserWarning: Module uuid was already imported from /Users/mark/anaconda/python.app/Contents/lib/python2.7/uuid.pyc, but /Users/mark/anaconda/lib/python2.7/site-packages is being added to sys.path\n",
        "  from pkg_resources import resource_stream\n"
       ]
      }
     ],
     "prompt_number": 1
    },
    {
     "cell_type": "code",
     "collapsed": false,
     "input": [
      "conf = utils.TreeStructuredConfiguration(\"dummyconf.json\")\n",
      "conf.branching_factor = 4\n",
      "conf.depth_factor = 4"
     ],
     "language": "python",
     "metadata": {},
     "outputs": [],
     "prompt_number": 2
    },
    {
     "cell_type": "code",
     "collapsed": false,
     "input": [
      "sym = stats.BalancedTreeAutomorphismStatistics(conf)"
     ],
     "language": "python",
     "metadata": {},
     "outputs": [],
     "prompt_number": 3
    },
    {
     "cell_type": "code",
     "collapsed": false,
     "input": [
      "g1 = nx.balanced_tree(4,4)\n",
      "g2 = nx.balanced_tree(4,4)"
     ],
     "language": "python",
     "metadata": {},
     "outputs": [],
     "prompt_number": 4
    },
    {
     "cell_type": "code",
     "collapsed": false,
     "input": [
      "print sym.calculate_graph_symmetries(g1)"
     ],
     "language": "python",
     "metadata": {},
     "outputs": [
      {
       "ename": "TypeError",
       "evalue": "float() argument must be a string or a number",
       "output_type": "pyerr",
       "traceback": [
        "\u001b[0;31m---------------------------------------------------------------------------\u001b[0m\n\u001b[0;31mTypeError\u001b[0m                                 Traceback (most recent call last)",
        "\u001b[0;32m<ipython-input-5-a7656a549444>\u001b[0m in \u001b[0;36m<module>\u001b[0;34m()\u001b[0m\n\u001b[0;32m----> 1\u001b[0;31m \u001b[0;32mprint\u001b[0m \u001b[0msym\u001b[0m\u001b[0;34m.\u001b[0m\u001b[0mcalculate_graph_symmetries\u001b[0m\u001b[0;34m(\u001b[0m\u001b[0mg1\u001b[0m\u001b[0;34m)\u001b[0m\u001b[0;34m\u001b[0m\u001b[0m\n\u001b[0m",
        "\u001b[0;32m/Users/mark/anaconda/lib/python2.7/site-packages/madsenlab/axelrod/analysis/trait_tree_statistics.pyc\u001b[0m in \u001b[0;36mcalculate_graph_symmetries\u001b[0;34m(self, graph)\u001b[0m\n\u001b[1;32m    134\u001b[0m \u001b[0;34m\u001b[0m\u001b[0m\n\u001b[1;32m    135\u001b[0m         \u001b[0;31m# TODO: Figure out how to handle density and radius for multi-component graphs\u001b[0m\u001b[0;34m\u001b[0m\u001b[0;34m\u001b[0m\u001b[0m\n\u001b[0;32m--> 136\u001b[0;31m         \u001b[0mresults\u001b[0m\u001b[0;34m[\u001b[0m\u001b[0;34m'remainingdensity'\u001b[0m\u001b[0;34m]\u001b[0m \u001b[0;34m=\u001b[0m \u001b[0mfloat\u001b[0m\u001b[0;34m(\u001b[0m\u001b[0mg\u001b[0m\u001b[0;34m.\u001b[0m\u001b[0mnumber_of_nodes\u001b[0m\u001b[0;34m(\u001b[0m\u001b[0;34m)\u001b[0m\u001b[0;34m)\u001b[0m \u001b[0;34m/\u001b[0m \u001b[0;34m(\u001b[0m\u001b[0mfloat\u001b[0m\u001b[0;34m(\u001b[0m\u001b[0mself\u001b[0m\u001b[0;34m.\u001b[0m\u001b[0mn_per_tree\u001b[0m\u001b[0;34m)\u001b[0m \u001b[0;34m*\u001b[0m \u001b[0mfloat\u001b[0m\u001b[0;34m(\u001b[0m\u001b[0mself\u001b[0m\u001b[0;34m.\u001b[0m\u001b[0mnum_trees\u001b[0m\u001b[0;34m)\u001b[0m\u001b[0;34m)\u001b[0m\u001b[0;34m\u001b[0m\u001b[0m\n\u001b[0m\u001b[1;32m    137\u001b[0m \u001b[0;34m\u001b[0m\u001b[0m\n\u001b[1;32m    138\u001b[0m \u001b[0;34m\u001b[0m\u001b[0m\n",
        "\u001b[0;31mTypeError\u001b[0m: float() argument must be a string or a number"
       ]
      }
     ],
     "prompt_number": 5
    },
    {
     "cell_type": "code",
     "collapsed": false,
     "input": [
      "order_tree = stats.num_nodes_balanced_tree(4,4)"
     ],
     "language": "python",
     "metadata": {},
     "outputs": []
    },
    {
     "cell_type": "code",
     "collapsed": false,
     "input": [
      "starting_vertex = order_tree "
     ],
     "language": "python",
     "metadata": {},
     "outputs": []
    },
    {
     "cell_type": "code",
     "collapsed": false,
     "input": [
      "g2A = nx.convert_node_labels_to_integers(g2, first_label = starting_vertex)"
     ],
     "language": "python",
     "metadata": {},
     "outputs": []
    },
    {
     "cell_type": "code",
     "collapsed": false,
     "input": [
      "graphs = []\n",
      "graphs.append(g1)\n",
      "graphs.append(g2A)"
     ],
     "language": "python",
     "metadata": {},
     "outputs": []
    },
    {
     "cell_type": "code",
     "collapsed": false,
     "input": [
      "forest = nx.union_all(graphs)"
     ],
     "language": "python",
     "metadata": {},
     "outputs": []
    },
    {
     "cell_type": "code",
     "collapsed": false,
     "input": [
      "forest.number_of_nodes()"
     ],
     "language": "python",
     "metadata": {},
     "outputs": []
    },
    {
     "cell_type": "code",
     "collapsed": false,
     "input": [
      "forestd = sym._format_graph_as_nauty(forest)"
     ],
     "language": "python",
     "metadata": {},
     "outputs": []
    },
    {
     "cell_type": "markdown",
     "metadata": {},
     "source": [
      "Below is the output for a forest with two trees with $r=4, h=4$.  We can see that the orbit number is the same, the multiplicities are simply different because the members of each orbit in each tree are interchangeable, so each multiplicity is twice the value in a single tree.  The group size is much larger than twice, however, but we should expect there to be a multiplicative effect given that automorphisms scale as $n!$ for the complete graphs $K_n$.  "
     ]
    },
    {
     "cell_type": "code",
     "collapsed": false,
     "input": [
      "print sym._get_raw_nauty_output(forestd)"
     ],
     "language": "python",
     "metadata": {},
     "outputs": []
    },
    {
     "cell_type": "code",
     "collapsed": false,
     "input": [
      "g3 = nx.balanced_tree(4,4)"
     ],
     "language": "python",
     "metadata": {},
     "outputs": []
    },
    {
     "cell_type": "code",
     "collapsed": false,
     "input": [
      "g3a = nx.convert_node_labels_to_integers(g3, first_label=(order_tree * 2))"
     ],
     "language": "python",
     "metadata": {},
     "outputs": []
    },
    {
     "cell_type": "code",
     "collapsed": false,
     "input": [
      "graphs.append(g3a)"
     ],
     "language": "python",
     "metadata": {},
     "outputs": []
    },
    {
     "cell_type": "code",
     "collapsed": false,
     "input": [
      "forest2 = nx.union_all(graphs)"
     ],
     "language": "python",
     "metadata": {},
     "outputs": []
    },
    {
     "cell_type": "code",
     "collapsed": false,
     "input": [
      "f2d = sym._format_graph_as_nauty(forest2)"
     ],
     "language": "python",
     "metadata": {},
     "outputs": []
    },
    {
     "cell_type": "code",
     "collapsed": false,
     "input": [
      "print sym._get_raw_nauty_output(f2d)"
     ],
     "language": "python",
     "metadata": {},
     "outputs": []
    },
    {
     "cell_type": "markdown",
     "metadata": {},
     "source": [
      "Adding a third balanced tree follows the same pattern.  The only concern is the scaling of group size.  Adding a fourth tree to give me some data points to work with.  "
     ]
    },
    {
     "cell_type": "code",
     "collapsed": false,
     "input": [
      "g4 = nx.balanced_tree(4,4)"
     ],
     "language": "python",
     "metadata": {},
     "outputs": []
    },
    {
     "cell_type": "code",
     "collapsed": false,
     "input": [
      "g4a = nx.convert_node_labels_to_integers(g4, first_label=(order_tree * 3))"
     ],
     "language": "python",
     "metadata": {},
     "outputs": []
    },
    {
     "cell_type": "code",
     "collapsed": false,
     "input": [
      "graphs.append(g4a)\n",
      "forest3 = nx.union_all(graphs)"
     ],
     "language": "python",
     "metadata": {},
     "outputs": []
    },
    {
     "cell_type": "code",
     "collapsed": false,
     "input": [
      "f3d = sym._format_graph_as_nauty(forest3)\n",
      "print sym._get_raw_nauty_output(f3d)"
     ],
     "language": "python",
     "metadata": {},
     "outputs": []
    },
    {
     "cell_type": "markdown",
     "metadata": {},
     "source": [
      "The exponent is definitely going up as the power of the number of trees:  ${10^{117}}^2 = 10^{234}$, and so on.  But the other values are rising as well, and not by a simple multiplicative factor (which looked like 2).  It looks like $n!$.  \n",
      "\n",
      "So, with a forest of identical trees, with n trees, and $s = |\\textit{Aut}(g)|$ for each tree, the total automorphism group size for the entire forest is thus $n! s^n$.  This is true for identical tree copies, but obviously more complex for non-identical components.  We would not also see orbit multiplicities which are a simple factor of the base orbit multiplicity, and we'd expect that the orbit number would not be constant, of course.  \n",
      "\n",
      "So how do the orbit numbers etc behave with multiple non-identical components?  I'm not going to get a general answer here (but of course that's possible), but what follows are some simple examples to guide intuition.  \n"
     ]
    },
    {
     "cell_type": "code",
     "collapsed": false,
     "input": [
      "gx1 = nx.balanced_tree(3,3)\n",
      "nx1 = stats.num_nodes_balanced_tree(3,3)\n",
      "gx2 = nx.balanced_tree(4,4)\n",
      "gx2a = nx.convert_node_labels_to_integers(gx2, first_label=nx1)"
     ],
     "language": "python",
     "metadata": {},
     "outputs": [],
     "prompt_number": 7
    },
    {
     "cell_type": "code",
     "collapsed": false,
     "input": [
      "graphs2 = []\n",
      "graphs2.append(gx1)\n",
      "graphs2.append(gx2a)"
     ],
     "language": "python",
     "metadata": {},
     "outputs": [],
     "prompt_number": 8
    },
    {
     "cell_type": "code",
     "collapsed": false,
     "input": [
      "foresth1 = nx.union_all(graphs2)"
     ],
     "language": "python",
     "metadata": {},
     "outputs": [],
     "prompt_number": 9
    },
    {
     "cell_type": "code",
     "collapsed": false,
     "input": [
      "print sym._get_raw_nauty_output(sym._format_graph_as_nauty(foresth1))"
     ],
     "language": "python",
     "metadata": {},
     "outputs": [
      {
       "output_type": "stream",
       "stream": "stdout",
       "text": [
        "9 orbits; grpsize=2.715950187930e127; 281 gens; 36753 nodes; maxlev=225\n",
        "cpu time = 0.06 seconds\n",
        " 0; 1:3 (3); 4:12 (9); 13:39 (27); 40; 41:44 (4); 45:60 (16); 61:124 (64);\n",
        "    125:380 (256);\n",
        "\n"
       ]
      }
     ],
     "prompt_number": 10
    },
    {
     "cell_type": "raw",
     "metadata": {},
     "source": [
      "So...since the graph components are different, the orbits are disjoint and restricted to their own component.  The total orbit number is simply the sum of the orbit numbers for the two components, and the orbit multiplicites and vertex membership are obviously restricted to each component (easy to see given the sequential vertex numbering). \n",
      "\n",
      "The group size is greater than that of a single tree, but many orders of magnitude smaller than the combined group size of two identical trees.  This likely reflects there being very few automorphisms between trees.  "
     ]
    },
    {
     "cell_type": "code",
     "collapsed": false,
     "input": [
      "print sym._get_raw_nauty_output(sym._format_graph_as_nauty(gx1))"
     ],
     "language": "python",
     "metadata": {},
     "outputs": [
      {
       "output_type": "stream",
       "stream": "stdout",
       "text": [
        "4 orbits; grpsize=1.306069401600e10; 26 gens; 336 nodes; maxlev=21\n",
        "cpu time = 0.00 seconds\n",
        " 0; 1:3 (3); 4:12 (9); 13:39 (27);\n",
        "\n"
       ]
      }
     ],
     "prompt_number": 11
    },
    {
     "cell_type": "code",
     "collapsed": false,
     "input": [
      "print sym._get_raw_nauty_output(sym._format_graph_as_nauty(gx2))"
     ],
     "language": "python",
     "metadata": {},
     "outputs": [
      {
       "output_type": "stream",
       "stream": "stdout",
       "text": [
        "5 orbits; grpsize=2.079483819622e117; 255 gens; 30388 nodes; maxlev=205\n",
        "cpu time = 0.04 seconds\n",
        " 0; 1:4 (4); 5:20 (16); 21:84 (64); 85:340 (256);\n",
        "\n"
       ]
      }
     ],
     "prompt_number": 12
    },
    {
     "cell_type": "code",
     "collapsed": false,
     "input": [],
     "language": "python",
     "metadata": {},
     "outputs": []
    }
   ],
   "metadata": {}
  }
 ]
}