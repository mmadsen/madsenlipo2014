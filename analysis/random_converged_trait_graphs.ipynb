{
 "metadata": {
  "name": ""
 },
 "nbformat": 3,
 "nbformat_minor": 0,
 "worksheets": [
  {
   "cells": [
    {
     "cell_type": "code",
     "collapsed": false,
     "input": [
      "from pymongo import MongoClient\n",
      "import datetime"
     ],
     "language": "python",
     "metadata": {},
     "outputs": [],
     "prompt_number": 1
    },
    {
     "cell_type": "code",
     "collapsed": false,
     "input": [
      "client = MongoClient()"
     ],
     "language": "python",
     "metadata": {},
     "outputs": [],
     "prompt_number": 2
    },
    {
     "cell_type": "code",
     "collapsed": false,
     "input": [
      "db = client['saa-2_samples_raw']"
     ],
     "language": "python",
     "metadata": {},
     "outputs": [],
     "prompt_number": 3
    },
    {
     "cell_type": "code",
     "collapsed": false,
     "input": [
      "coll = db['axelrod_stats_treestructured']"
     ],
     "language": "python",
     "metadata": {},
     "outputs": [],
     "prompt_number": 4
    },
    {
     "cell_type": "code",
     "collapsed": false,
     "input": [
      "db.collection_names()"
     ],
     "language": "python",
     "metadata": {},
     "outputs": [
      {
       "metadata": {},
       "output_type": "pyout",
       "prompt_number": 5,
       "text": [
        "[u'system.indexes', u'axelrod_stats_treestructured']"
       ]
      }
     ],
     "prompt_number": 5
    },
    {
     "cell_type": "code",
     "collapsed": false,
     "input": [
      "coll.count()"
     ],
     "language": "python",
     "metadata": {},
     "outputs": [
      {
       "metadata": {},
       "output_type": "pyout",
       "prompt_number": 6,
       "text": [
        "2582"
       ]
      }
     ],
     "prompt_number": 6
    },
    {
     "cell_type": "code",
     "collapsed": false,
     "input": [
      "ids = coll.find({\"run_finalized\": 1},{\"_id\": 1})"
     ],
     "language": "python",
     "metadata": {},
     "outputs": [],
     "prompt_number": 7
    },
    {
     "cell_type": "code",
     "collapsed": false,
     "input": [
      "ids"
     ],
     "language": "python",
     "metadata": {},
     "outputs": [
      {
       "metadata": {},
       "output_type": "pyout",
       "prompt_number": 8,
       "text": [
        "<pymongo.cursor.Cursor at 0x106950c90>"
       ]
      }
     ],
     "prompt_number": 8
    },
    {
     "cell_type": "code",
     "collapsed": false,
     "input": [
      "id_list = []\n",
      "for id in ids:\n",
      "    id_list.append(id)"
     ],
     "language": "python",
     "metadata": {},
     "outputs": [],
     "prompt_number": 9
    },
    {
     "cell_type": "code",
     "collapsed": false,
     "input": [
      "len(id_list)"
     ],
     "language": "python",
     "metadata": {},
     "outputs": [
      {
       "metadata": {},
       "output_type": "pyout",
       "prompt_number": 10,
       "text": [
        "2298"
       ]
      }
     ],
     "prompt_number": 10
    },
    {
     "cell_type": "code",
     "collapsed": false,
     "input": [
      "import random\n"
     ],
     "language": "python",
     "metadata": {},
     "outputs": [],
     "prompt_number": 11
    },
    {
     "cell_type": "code",
     "collapsed": false,
     "input": [
      "selected_ids = random.sample(id_list, 20)"
     ],
     "language": "python",
     "metadata": {},
     "outputs": [],
     "prompt_number": 12
    },
    {
     "cell_type": "code",
     "collapsed": false,
     "input": [
      "selected_ids"
     ],
     "language": "python",
     "metadata": {},
     "outputs": [
      {
       "metadata": {},
       "output_type": "pyout",
       "prompt_number": 13,
       "text": [
        "[{u'_id': ObjectId('531d7a78a61fac0f6360acd5')},\n",
        " {u'_id': ObjectId('531e6592a61fac19f367c393')},\n",
        " {u'_id': ObjectId('531e6d2aa61fac1a4bad608e')},\n",
        " {u'_id': ObjectId('5320f170a61fac42c4ae82e4')},\n",
        " {u'_id': ObjectId('531e7461a61fac1a895a64a9')},\n",
        " {u'_id': ObjectId('531f70b1a61fac258420d7ac')},\n",
        " {u'_id': ObjectId('531f489fa61fac2339a01261')},\n",
        " {u'_id': ObjectId('5320f134a61fac42a4b0186c')},\n",
        " {u'_id': ObjectId('531f4e5aa61fac23b369e0d3')},\n",
        " {u'_id': ObjectId('5320bba0a61fac3d836a24ac')},\n",
        " {u'_id': ObjectId('531f044ca61fac1f1bd60b1b')},\n",
        " {u'_id': ObjectId('531f9e3aa61fac2a8fee1370')},\n",
        " {u'_id': ObjectId('53209f55a61fac3ab05be374')},\n",
        " {u'_id': ObjectId('5320b415a61fac3cb68bb7aa')},\n",
        " {u'_id': ObjectId('531e1675a61fac15d0ae8ac8')},\n",
        " {u'_id': ObjectId('532084a4a61fac3797272e82')},\n",
        " {u'_id': ObjectId('531d89c9a61fac10339bf6ae')},\n",
        " {u'_id': ObjectId('531fc692a61fac2ce5676770')},\n",
        " {u'_id': ObjectId('5320799ca61fac371a18a89a')},\n",
        " {u'_id': ObjectId('531d716ca61fac0ecdf00eea')}]"
       ]
      }
     ],
     "prompt_number": 13
    },
    {
     "cell_type": "code",
     "collapsed": false,
     "input": [
      "test_id = selected_ids[0]"
     ],
     "language": "python",
     "metadata": {},
     "outputs": [],
     "prompt_number": 14
    },
    {
     "cell_type": "code",
     "collapsed": false,
     "input": [
      "res = coll.find_one(test_id, fields={'culture_graphml_repr'})"
     ],
     "language": "python",
     "metadata": {},
     "outputs": [],
     "prompt_number": 15
    },
    {
     "cell_type": "code",
     "collapsed": false,
     "input": [
      "graph_list = res['culture_graphml_repr']"
     ],
     "language": "python",
     "metadata": {},
     "outputs": [],
     "prompt_number": 16
    },
    {
     "cell_type": "code",
     "collapsed": false,
     "input": [
      "len(graph_list)"
     ],
     "language": "python",
     "metadata": {},
     "outputs": [
      {
       "metadata": {},
       "output_type": "pyout",
       "prompt_number": 17,
       "text": [
        "1"
       ]
      }
     ],
     "prompt_number": 17
    },
    {
     "cell_type": "code",
     "collapsed": false,
     "input": [
      "import networkx as nx"
     ],
     "language": "python",
     "metadata": {},
     "outputs": [
      {
       "output_type": "stream",
       "stream": "stdout",
       "text": [
        "Couldn't import dot_parser, loading of dot files will not be possible.\n"
       ]
      }
     ],
     "prompt_number": 18
    },
    {
     "cell_type": "code",
     "collapsed": false,
     "input": [
      "graphs = []\n",
      "for g in graph_list:\n",
      "    g_c = g['content']\n",
      "    graph = nx.parse_graphml(g_c)\n",
      "    graphs.append(graph)"
     ],
     "language": "python",
     "metadata": {},
     "outputs": [],
     "prompt_number": 19
    },
    {
     "cell_type": "code",
     "collapsed": false,
     "input": [
      "for i in range(0, len(graphs)):\n",
      "    fname = \"random-trait-graph-\"\n",
      "    fname += str(i)\n",
      "    fname += \".dot\"\n",
      "    nx.write_dot(graphs[i], fname)\n",
      "    "
     ],
     "language": "python",
     "metadata": {},
     "outputs": [],
     "prompt_number": 20
    },
    {
     "cell_type": "code",
     "collapsed": false,
     "input": [
      "import madsenlab.axelrod.utils as utils\n"
     ],
     "language": "python",
     "metadata": {},
     "outputs": [
      {
       "output_type": "stream",
       "stream": "stderr",
       "text": [
        "/Users/mark/anaconda/lib/python2.7/site-packages/pytz/__init__.py:31: UserWarning: Module argparse was already imported from /Users/mark/anaconda/python.app/Contents/lib/python2.7/argparse.pyc, but /Users/mark/anaconda/lib/python2.7/site-packages is being added to sys.path\n",
        "  from pkg_resources import resource_stream\n",
        "/Users/mark/anaconda/lib/python2.7/site-packages/pytz/__init__.py:31: UserWarning: Module logging was already imported from /Users/mark/anaconda/python.app/Contents/lib/python2.7/logging/__init__.pyc, but /Users/mark/anaconda/lib/python2.7/site-packages is being added to sys.path\n",
        "  from pkg_resources import resource_stream\n",
        "/Users/mark/anaconda/lib/python2.7/site-packages/pytz/__init__.py:31: UserWarning: Module multiprocessing was already imported from /Users/mark/anaconda/python.app/Contents/lib/python2.7/multiprocessing/__init__.pyc, but /Users/mark/anaconda/lib/python2.7/site-packages is being added to sys.path\n",
        "  from pkg_resources import resource_stream\n",
        "/Users/mark/anaconda/lib/python2.7/site-packages/pytz/__init__.py:31: UserWarning: Module uuid was already imported from /Users/mark/anaconda/python.app/Contents/lib/python2.7/uuid.pyc, but /Users/mark/anaconda/lib/python2.7/site-packages is being added to sys.path\n",
        "  from pkg_resources import resource_stream\n"
       ]
      }
     ],
     "prompt_number": 21
    },
    {
     "cell_type": "code",
     "collapsed": false,
     "input": [
      "rec = 0\n",
      "selected_ids = random.sample(id_list, 1)\n",
      "for id in selected_ids:\n",
      "    res = coll.find_one(id, fields={'culture_graphml_repr'})\n",
      "    graph_list = res['culture_graphml_repr']\n",
      "    graphs = []\n",
      "    for g in graph_list:\n",
      "        g_c = g['content']\n",
      "        graph = nx.parse_graphml(g_c)\n",
      "        graphs.append(graph)\n",
      "    for i in range(0, len(graphs)):\n",
      "        fname = \"tmp/random-trait-graph-\"\n",
      "        fname += \"%03d\" % rec\n",
      "        fname += \".dot\"\n",
      "        utils.write_ordered_dot(graphs[i], fname, str(id))   \n",
      "        rec += 1"
     ],
     "language": "python",
     "metadata": {},
     "outputs": [
      {
       "output_type": "stream",
       "stream": "stdout",
       "text": [
        "strict graph \"{u'_id': ObjectId('531df451a61fac1472bb0a02')}\" {\n",
        "0;\n",
        "1;\n",
        "2;\n",
        "85;\n",
        "88;\n",
        "89;\n",
        "170;\n",
        "171;\n",
        "172;\n",
        "174;\n",
        "177;\n",
        "255;\n",
        "256;\n",
        "258;\n",
        "259;\n",
        "340;\n",
        "341;\n",
        "342;\n",
        "343;\n",
        "344;\n",
        "348;\n",
        "355;\n",
        "359;\n",
        "425;\n",
        "426;\n",
        "427;\n",
        "428;\n",
        "429;\n",
        "432;\n",
        "443;\n",
        "510;\n",
        "511;\n",
        "512;\n",
        "514;\n",
        "527;\n",
        "530;\n",
        "595;\n",
        "596;\n",
        "597;\n",
        "598;\n",
        "599;\n",
        "605;\n",
        "680;\n",
        "681;\n",
        "682;\n",
        "683;\n",
        "684;\n",
        "686;\n",
        "765;\n",
        "766;\n",
        "767;\n",
        "768;\n",
        "850;\n",
        "851;\n",
        "852;\n",
        "935;\n",
        "936;\n",
        "937;\n",
        "938;\n",
        "939;\n",
        "943;\n",
        "946;\n",
        "971;\n",
        "1020;\n",
        "1022;\n",
        "1023;\n",
        "1024;\n",
        "1033;\n",
        "1105;\n",
        "1106;\n",
        "1190;\n",
        "1191;\n",
        "1192;\n",
        "1194;\n",
        "1197;\n",
        "1275;\n",
        "1276;\n",
        "1279;\n",
        "0 -- 2;\n",
        "0 -- 1;\n",
        "85 -- 88;\n",
        "85 -- 89;\n",
        "170 -- 171;\n",
        "170 -- 172;\n",
        "170 -- 174;\n",
        "171 -- 177;\n",
        "255 -- 256;\n",
        "255 -- 258;\n",
        "255 -- 259;\n",
        "340 -- 341;\n",
        "340 -- 342;\n",
        "340 -- 343;\n",
        "341 -- 348;\n",
        "343 -- 355;\n",
        "340 -- 344;\n",
        "344 -- 359;\n",
        "426 -- 432;\n",
        "425 -- 426;\n",
        "425 -- 427;\n",
        "425 -- 428;\n",
        "425 -- 429;\n",
        "429 -- 443;\n",
        "510 -- 511;\n",
        "510 -- 512;\n",
        "510 -- 514;\n",
        "514 -- 530;\n",
        "514 -- 527;\n",
        "595 -- 599;\n",
        "595 -- 598;\n",
        "595 -- 597;\n",
        "595 -- 596;\n",
        "597 -- 605;\n",
        "680 -- 682;\n",
        "680 -- 681;\n",
        "680 -- 683;\n",
        "680 -- 684;\n",
        "681 -- 686;\n",
        "765 -- 766;\n",
        "765 -- 767;\n",
        "765 -- 768;\n",
        "850 -- 851;\n",
        "850 -- 852;\n",
        "936 -- 943;\n",
        "935 -- 936;\n",
        "937 -- 946;\n",
        "935 -- 937;\n",
        "935 -- 938;\n",
        "935 -- 939;\n",
        "943 -- 971;\n",
        "1020 -- 1024;\n",
        "1020 -- 1023;\n",
        "1020 -- 1022;\n",
        "1023 -- 1033;\n",
        "1105 -- 1106;\n",
        "1190 -- 1192;\n",
        "1190 -- 1194;\n",
        "1190 -- 1191;\n",
        "1191 -- 1197;\n",
        "1275 -- 1276;\n",
        "1275 -- 1279;\n",
        "labelloc=\"t\";\n",
        "label=\"{u'_id': ObjectId('531df451a61fac1472bb0a02')}\";\n",
        "}\n",
        "\n"
       ]
      }
     ],
     "prompt_number": 22
    },
    {
     "cell_type": "code",
     "collapsed": false,
     "input": [
      "p = utils.generate_ordered_dot(graph, \"foo\")"
     ],
     "language": "python",
     "metadata": {},
     "outputs": [],
     "prompt_number": 23
    },
    {
     "cell_type": "code",
     "collapsed": false,
     "input": [
      "import re\n"
     ],
     "language": "python",
     "metadata": {},
     "outputs": [],
     "prompt_number": 24
    },
    {
     "cell_type": "code",
     "collapsed": false,
     "input": [
      "n = 5124\n",
      "import math\n",
      "l = math.log10(n)\n",
      "o = int(math.ceil(l))\n",
      "print o"
     ],
     "language": "python",
     "metadata": {},
     "outputs": [
      {
       "output_type": "stream",
       "stream": "stdout",
       "text": [
        "4\n"
       ]
      }
     ],
     "prompt_number": 1
    },
    {
     "cell_type": "code",
     "collapsed": false,
     "input": [],
     "language": "python",
     "metadata": {},
     "outputs": []
    }
   ],
   "metadata": {}
  }
 ]
}